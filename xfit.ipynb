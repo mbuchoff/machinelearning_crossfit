{
 "cells": [
  {
   "cell_type": "code",
   "execution_count": 4,
   "id": "9ead9767-2dc2-4042-8933-5c92576059d0",
   "metadata": {},
   "outputs": [],
   "source": [
    "# https://chat.openai.com/share/2894d320-6996-4867-8596-afd12be26236\n",
    "import workout_log as wl\n",
    "import pandas as pd\n",
    "import numpy as np\n",
    "import tensorflow as tf\n",
    "from sklearn.model_selection import train_test_split\n",
    "\n",
    "\n",
    "valid_movements = [\n",
    "    \"rest\", # 0 for padding\n",
    "    \"alternating pistols\",\n",
    "    \"burpees\",\n",
    "    \"chest to bars\",\n",
    "    \"deadlifts\",\n",
    "    \"double unders\",\n",
    "    \"dual kb front rack step-ups, 20\\\" box\",\n",
    "    \"dumbbell walking lunges\",\n",
    "    \"dumbbell snatch\",\n",
    "    \"front rack lunges\",\n",
    "    \"front squats\",\n",
    "    \"handstand pushups\",\n",
    "    \"hang power cleans\",\n",
    "    \"jumping air squats\",\n",
    "    \"kettlebell swings\",\n",
    "    \"power cleans\",\n",
    "    \"pullups\",\n",
    "    \"push jerks\",\n",
    "    \"pushups\",\n",
    "    \"ring dips\",\n",
    "    \"running\",\n",
    "    \"strict pullups\",\n",
    "]\n",
    "\n"
   ]
  },
  {
   "cell_type": "code",
   "execution_count": 7,
   "id": "fd8270ce-149a-48c2-8b71-67abd3dcb18f",
   "metadata": {},
   "outputs": [],
   "source": [
    "# Combine all movements for each date into a single textual feature\n",
    "maxLen = 0\n",
    "for workout in wl.workout_log:\n",
    "    maxLen = max(maxLen, len(workout[\"movements\"]))\n",
    "\n",
    "X = np.empty((len(wl.workout_log), maxLen*3 + 1))\n",
    "Y = np.empty(len(wl.workout_log))\n",
    "\n",
    "for workoutIdx, workout in enumerate(wl.workout_log):\n",
    "    X[workoutIdx, 0] = workout[\"date\"].toordinal()\n",
    "    Y[workoutIdx] = workout[\"time_minutes\"]\n",
    "    for movementIdx, movement in enumerate(workout[\"movements\"]):\n",
    "        X[workoutIdx, movementIdx*3 + 1] = float(valid_movements.index(movement[\"movement\"]))\n",
    "        X[workoutIdx, movementIdx*3 + 2] = float(movement[\"repetitions\"])\n",
    "        X[workoutIdx, movementIdx*3 + 3] = float(movement[\"weight\"])"
   ]
  },
  {
   "cell_type": "code",
   "execution_count": 8,
   "id": "676beff7-0702-4d34-b37a-5e6825f30902",
   "metadata": {},
   "outputs": [],
   "source": [
    "# Split data into training and test sets\n",
    "X_train, X_test, y_train, y_test = train_test_split(X, Y, test_size=0.2, random_state=42)"
   ]
  },
  {
   "cell_type": "code",
   "execution_count": 9,
   "id": "edf39a57-72ad-409d-95be-6dd2c6531569",
   "metadata": {},
   "outputs": [
    {
     "name": "stdout",
     "output_type": "stream",
     "text": [
      "Epoch 1/20\n",
      "\u001b[1m2/2\u001b[0m \u001b[32m━━━━━━━━━━━━━━━━━━━━\u001b[0m\u001b[37m\u001b[0m \u001b[1m3s\u001b[0m 441ms/step - loss: 491606496.0000 - mae: 20944.4141 - val_loss: 10701138.0000 - val_mae: 3271.2324\n",
      "Epoch 2/20\n",
      "\u001b[1m2/2\u001b[0m \u001b[32m━━━━━━━━━━━━━━━━━━━━\u001b[0m\u001b[37m\u001b[0m \u001b[1m0s\u001b[0m 53ms/step - loss: 62478612.0000 - mae: 6492.4355 - val_loss: 262425056.0000 - val_mae: 16199.5342\n",
      "Epoch 3/20\n",
      "\u001b[1m2/2\u001b[0m \u001b[32m━━━━━━━━━━━━━━━━━━━━\u001b[0m\u001b[37m\u001b[0m \u001b[1m0s\u001b[0m 116ms/step - loss: 249704256.0000 - mae: 15788.5205 - val_loss: 112826736.0000 - val_mae: 10621.9863\n",
      "Epoch 4/20\n",
      "\u001b[1m2/2\u001b[0m \u001b[32m━━━━━━━━━━━━━━━━━━━━\u001b[0m\u001b[37m\u001b[0m \u001b[1m0s\u001b[0m 87ms/step - loss: 83977720.0000 - mae: 8779.7158 - val_loss: 757057.6250 - val_mae: 869.9905\n",
      "Epoch 5/20\n",
      "\u001b[1m2/2\u001b[0m \u001b[32m━━━━━━━━━━━━━━━━━━━━\u001b[0m\u001b[37m\u001b[0m \u001b[1m0s\u001b[0m 81ms/step - loss: 11956170.0000 - mae: 2510.9912 - val_loss: 86159760.0000 - val_mae: 9282.2178\n",
      "Epoch 6/20\n",
      "\u001b[1m2/2\u001b[0m \u001b[32m━━━━━━━━━━━━━━━━━━━━\u001b[0m\u001b[37m\u001b[0m \u001b[1m0s\u001b[0m 85ms/step - loss: 93927416.0000 - mae: 9671.7910 - val_loss: 97884216.0000 - val_mae: 9893.6357\n",
      "Epoch 7/20\n",
      "\u001b[1m2/2\u001b[0m \u001b[32m━━━━━━━━━━━━━━━━━━━━\u001b[0m\u001b[37m\u001b[0m \u001b[1m0s\u001b[0m 77ms/step - loss: 84217416.0000 - mae: 9111.6855 - val_loss: 19169436.0000 - val_mae: 4378.2720\n",
      "Epoch 8/20\n",
      "\u001b[1m2/2\u001b[0m \u001b[32m━━━━━━━━━━━━━━━━━━━━\u001b[0m\u001b[37m\u001b[0m \u001b[1m0s\u001b[0m 90ms/step - loss: 12625026.0000 - mae: 3117.8237 - val_loss: 7211210.0000 - val_mae: 2685.3418\n",
      "Epoch 9/20\n",
      "\u001b[1m2/2\u001b[0m \u001b[32m━━━━━━━━━━━━━━━━━━━━\u001b[0m\u001b[37m\u001b[0m \u001b[1m0s\u001b[0m 73ms/step - loss: 14525956.0000 - mae: 3605.5808 - val_loss: 46216576.0000 - val_mae: 6798.2676\n",
      "Epoch 10/20\n",
      "\u001b[1m2/2\u001b[0m \u001b[32m━━━━━━━━━━━━━━━━━━━━\u001b[0m\u001b[37m\u001b[0m \u001b[1m0s\u001b[0m 69ms/step - loss: 47667552.0000 - mae: 6903.6729 - val_loss: 35753552.0000 - val_mae: 5979.4160\n",
      "Epoch 11/20\n",
      "\u001b[1m2/2\u001b[0m \u001b[32m━━━━━━━━━━━━━━━━━━━━\u001b[0m\u001b[37m\u001b[0m \u001b[1m0s\u001b[0m 143ms/step - loss: 29889862.0000 - mae: 5388.8418 - val_loss: 2731346.5000 - val_mae: 1652.6346\n",
      "Epoch 12/20\n",
      "\u001b[1m2/2\u001b[0m \u001b[32m━━━━━━━━━━━━━━━━━━━━\u001b[0m\u001b[37m\u001b[0m \u001b[1m0s\u001b[0m 110ms/step - loss: 2084375.2500 - mae: 1379.3595 - val_loss: 8722823.0000 - val_mae: 2953.4165\n",
      "Epoch 13/20\n",
      "\u001b[1m2/2\u001b[0m \u001b[32m━━━━━━━━━━━━━━━━━━━━\u001b[0m\u001b[37m\u001b[0m \u001b[1m0s\u001b[0m 97ms/step - loss: 11934753.0000 - mae: 3383.4214 - val_loss: 24188250.0000 - val_mae: 4918.1392\n",
      "Epoch 14/20\n",
      "\u001b[1m2/2\u001b[0m \u001b[32m━━━━━━━━━━━━━━━━━━━━\u001b[0m\u001b[37m\u001b[0m \u001b[1m0s\u001b[0m 128ms/step - loss: 22602578.0000 - mae: 4751.3682 - val_loss: 11668504.0000 - val_mae: 3415.8970\n",
      "Epoch 15/20\n",
      "\u001b[1m2/2\u001b[0m \u001b[32m━━━━━━━━━━━━━━━━━━━━\u001b[0m\u001b[37m\u001b[0m \u001b[1m0s\u001b[0m 82ms/step - loss: 8679987.0000 - mae: 2838.6028 - val_loss: 458.3360 - val_mae: 17.7322\n",
      "Epoch 16/20\n",
      "\u001b[1m2/2\u001b[0m \u001b[32m━━━━━━━━━━━━━━━━━━━━\u001b[0m\u001b[37m\u001b[0m \u001b[1m0s\u001b[0m 82ms/step - loss: 923795.0000 - mae: 604.2466 - val_loss: 7915117.0000 - val_mae: 2813.3574\n",
      "Epoch 17/20\n",
      "\u001b[1m2/2\u001b[0m \u001b[32m━━━━━━━━━━━━━━━━━━━━\u001b[0m\u001b[37m\u001b[0m \u001b[1m0s\u001b[0m 76ms/step - loss: 9278672.0000 - mae: 3037.8997 - val_loss: 10190434.0000 - val_mae: 3192.2246\n",
      "Epoch 18/20\n",
      "\u001b[1m2/2\u001b[0m \u001b[32m━━━━━━━━━━━━━━━━━━━━\u001b[0m\u001b[37m\u001b[0m \u001b[1m0s\u001b[0m 80ms/step - loss: 8953846.0000 - mae: 2974.2458 - val_loss: 1666967.0000 - val_mae: 1291.0565\n",
      "Epoch 19/20\n",
      "\u001b[1m2/2\u001b[0m \u001b[32m━━━━━━━━━━━━━━━━━━━━\u001b[0m\u001b[37m\u001b[0m \u001b[1m0s\u001b[0m 83ms/step - loss: 1147224.6250 - mae: 889.0247 - val_loss: 1472543.7500 - val_mae: 1213.4242\n",
      "Epoch 20/20\n",
      "\u001b[1m2/2\u001b[0m \u001b[32m━━━━━━━━━━━━━━━━━━━━\u001b[0m\u001b[37m\u001b[0m \u001b[1m0s\u001b[0m 88ms/step - loss: 2300719.5000 - mae: 1452.6635 - val_loss: 5987911.0000 - val_mae: 2446.9907\n"
     ]
    },
    {
     "data": {
      "text/plain": [
       "<keras.src.callbacks.history.History at 0x1f63b676510>"
      ]
     },
     "execution_count": 9,
     "metadata": {},
     "output_type": "execute_result"
    }
   ],
   "source": [
    "# Create a TensorFlow model\n",
    "model = tf.keras.Sequential()\n",
    "model.add(tf.keras.Input(shape=(len(X[0]),)))\n",
    "model.add(tf.keras.layers.Dense(64, activation='relu'))\n",
    "model.add(tf.keras.layers.Dense(32, activation='relu'))\n",
    "model.add(tf.keras.layers.Dense(1))  # Predicting a single numerical value\n",
    "\n",
    "# Compile the model\n",
    "model.compile(optimizer='adam', loss='mse', metrics=['mae'])\n",
    "\n",
    "# Train the model\n",
    "model.fit(X_train, y_train, epochs=20, validation_data=(X_test, y_test), batch_size=4)"
   ]
  },
  {
   "cell_type": "code",
   "execution_count": 8,
   "id": "9df94aac-b2b7-463b-b40a-23d2818794a1",
   "metadata": {},
   "outputs": [
    {
     "name": "stdout",
     "output_type": "stream",
     "text": [
      "\u001b[1m1/1\u001b[0m \u001b[32m━━━━━━━━━━━━━━━━━━━━\u001b[0m\u001b[37m\u001b[0m \u001b[1m0s\u001b[0m 140ms/step\n",
      "Predictions: [[-14083.821 ]\n",
      " [-14081.9795]]\n",
      "Actual: [12.85       10.53333333]\n"
     ]
    }
   ],
   "source": [
    "# Make predictions on new data\n",
    "#new_workouts = X_test[0:2]\n",
    "new_workouts = X_train[0:2]\n",
    "\n",
    "# Predict and output results\n",
    "predictions = model.predict(new_workouts)\n",
    "print(\"Predictions:\", predictions)\n",
    "print(\"Actual:\", y_train[0:2])"
   ]
  },
  {
   "cell_type": "code",
   "execution_count": null,
   "id": "eb5a2343-b2ea-499b-b3f3-2e3410ca8d93",
   "metadata": {},
   "outputs": [],
   "source": []
  }
 ],
 "metadata": {
  "kernelspec": {
   "display_name": "Python 3 (ipykernel)",
   "language": "python",
   "name": "python3"
  },
  "language_info": {
   "codemirror_mode": {
    "name": "ipython",
    "version": 3
   },
   "file_extension": ".py",
   "mimetype": "text/x-python",
   "name": "python",
   "nbconvert_exporter": "python",
   "pygments_lexer": "ipython3",
   "version": "3.11.9"
  }
 },
 "nbformat": 4,
 "nbformat_minor": 5
}
